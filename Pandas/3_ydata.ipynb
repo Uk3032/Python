{
 "cells": [
  {
   "cell_type": "markdown",
   "metadata": {},
   "source": [
    "# Automatic EDA with y data filing"
   ]
  },
  {
   "cell_type": "code",
   "execution_count": 1,
   "metadata": {},
   "outputs": [
    {
     "name": "stderr",
     "output_type": "stream",
     "text": [
      "c:\\Drive\\anaconda3\\envs\\ydata_profiling\\lib\\site-packages\\tqdm\\auto.py:21: TqdmWarning: IProgress not found. Please update jupyter and ipywidgets. See https://ipywidgets.readthedocs.io/en/stable/user_install.html\n",
      "  from .autonotebook import tqdm as notebook_tqdm\n"
     ]
    }
   ],
   "source": [
    "import pandas as pd\n",
    "import seaborn as sns\n",
    "import ydata_profiling as ydp"
   ]
  },
  {
   "cell_type": "code",
   "execution_count": 2,
   "metadata": {},
   "outputs": [],
   "source": [
    "df = sns.load_dataset('titanic')"
   ]
  },
  {
   "cell_type": "code",
   "execution_count": 3,
   "metadata": {},
   "outputs": [
    {
     "name": "stderr",
     "output_type": "stream",
     "text": [
      "Summarize dataset: 100%|██████████| 41/41 [00:12<00:00,  3.16it/s, Completed]                    \n",
      "Generate report structure: 100%|██████████| 1/1 [00:10<00:00, 10.42s/it]\n",
      "Render HTML: 100%|██████████| 1/1 [00:02<00:00,  2.65s/it]\n",
      "Export report to file: 100%|██████████| 1/1 [00:00<00:00, 43.31it/s]\n"
     ]
    }
   ],
   "source": [
    "# ydata profiling\n",
    "profile = ydp.ProfileReport(df)\n",
    "profile.to_file(output_file=\"ydata_titanic.html\")"
   ]
  },
  {
   "cell_type": "markdown",
   "metadata": {},
   "source": [
    "# Pak population data set\n"
   ]
  },
  {
   "cell_type": "code",
   "execution_count": 4,
   "metadata": {},
   "outputs": [],
   "source": [
    "df_pop = pd.read_csv('./data/data.csv')"
   ]
  },
  {
   "cell_type": "code",
   "execution_count": 5,
   "metadata": {},
   "outputs": [
    {
     "name": "stderr",
     "output_type": "stream",
     "text": [
      "Summarize dataset: 100%|██████████| 319/319 [01:56<00:00,  2.74it/s, Completed]                                                     \n",
      "Generate report structure: 100%|██████████| 1/1 [00:22<00:00, 22.15s/it]\n",
      "Render HTML: 100%|██████████| 1/1 [00:18<00:00, 18.52s/it]\n",
      "Export report to file: 100%|██████████| 1/1 [00:00<00:00,  6.04it/s]\n"
     ]
    }
   ],
   "source": [
    "profile = ydp.ProfileReport(df_pop)\n",
    "profile.to_file(output_file=\"ydata_pop.html\")"
   ]
  },
  {
   "cell_type": "code",
   "execution_count": null,
   "metadata": {},
   "outputs": [],
   "source": []
  }
 ],
 "metadata": {
  "kernelspec": {
   "display_name": "ydata_profiling",
   "language": "python",
   "name": "python3"
  },
  "language_info": {
   "codemirror_mode": {
    "name": "ipython",
    "version": 3
   },
   "file_extension": ".py",
   "mimetype": "text/x-python",
   "name": "python",
   "nbconvert_exporter": "python",
   "pygments_lexer": "ipython3",
   "version": "3.10.0"
  }
 },
 "nbformat": 4,
 "nbformat_minor": 2
}
